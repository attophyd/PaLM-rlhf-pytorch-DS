{
 "cells": [
  {
   "attachments": {},
   "cell_type": "markdown",
   "metadata": {},
   "source": [
    "## PaLM-rlhf-pytorch DeepSpeed Setup Initialization\n",
    "\n",
    "Modificated DeepSpeed training setup fork of [PaLM-rlhf-pytorch by lucidrains](https://github.com/lucidrains/PaLM-rlhf-pytorch) for distributed training with DeepSpeed."
   ]
  },
  {
   "cell_type": "code",
   "execution_count": null,
   "metadata": {
    "vscode": {
     "languageId": "plaintext"
    }
   },
   "outputs": [],
   "source": [
    "%cd /content\n",
    "!git clone https://github.com/attophyd/PaLM-rlhf-pytorch-DS\n",
    "%pip install -r PaLM-rlhf-pytorch-DS/requirements.txt"
   ]
  },
  {
   "cell_type": "code",
   "execution_count": null,
   "metadata": {
    "vscode": {
     "languageId": "plaintext"
    }
   },
   "outputs": [],
   "source": [
    "!python PaLM-rlhf-pytorch-DS/train.py"
   ]
  }
 ],
 "metadata": {
  "language_info": {
   "name": "python"
  },
  "orig_nbformat": 4
 },
 "nbformat": 4,
 "nbformat_minor": 2
}
